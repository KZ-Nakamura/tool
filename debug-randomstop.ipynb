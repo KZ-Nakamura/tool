{
 "cells": [
  {
   "cell_type": "code",
   "execution_count": 69,
   "metadata": {},
   "outputs": [],
   "source": [
    "import numpy as np\n",
    "import glob\n",
    "import pandas as pd\n",
    "import warnings\n",
    "warnings.filterwarnings('ignore')"
   ]
  },
  {
   "cell_type": "code",
   "execution_count": 70,
   "metadata": {},
   "outputs": [
    {
     "name": "stdout",
     "output_type": "stream",
     "text": [
      "['medium0.csv', 'medium1.csv', 'medium10.csv', 'medium11.csv', 'medium12.csv', 'medium13.csv', 'medium14.csv', 'medium15.csv', 'medium16.csv', 'medium17.csv', 'medium18.csv', 'medium2.csv', 'medium3.csv', 'medium4.csv', 'medium5.csv', 'medium6.csv', 'medium7.csv', 'medium8.csv', 'medium9.csv']\n"
     ]
    }
   ],
   "source": [
    "dat_paths = glob.glob(\"medium*.csv\")\n",
    "print(dat_paths)\n",
    "#print(dat_paths[0])\n",
    "data = [np.loadtxt(dat_path) for dat_path in dat_paths]\n",
    "#data = np.loadtxt(dat_paths[0]) "
   ]
  },
  {
   "cell_type": "code",
   "execution_count": 71,
   "metadata": {},
   "outputs": [
    {
     "name": "stdout",
     "output_type": "stream",
     "text": [
      "['result_cells0.csv', 'result_cells1.csv', 'result_cells10.csv', 'result_cells11.csv', 'result_cells12.csv', 'result_cells13.csv', 'result_cells14.csv', 'result_cells15.csv', 'result_cells16.csv', 'result_cells17.csv', 'result_cells18.csv', 'result_cells2.csv', 'result_cells3.csv', 'result_cells4.csv', 'result_cells5.csv', 'result_cells6.csv', 'result_cells7.csv', 'result_cells8.csv', 'result_cells9.csv']\n"
     ]
    }
   ],
   "source": [
    "dat_paths = glob.glob(\"result_cells*.csv\")\n",
    "print(dat_paths)\n",
    "#print(dat_paths[0])\n",
    "recedata = [np.loadtxt(dat_path) for dat_path in dat_paths]\n",
    "#data = np.loadtxt(dat_paths[0]) "
   ]
  },
  {
   "cell_type": "code",
   "execution_count": 72,
   "metadata": {},
   "outputs": [
    {
     "name": "stdout",
     "output_type": "stream",
     "text": [
      "['cell_vmax0.csv', 'cell_vmax1.csv', 'cell_vmax10.csv', 'cell_vmax11.csv', 'cell_vmax12.csv', 'cell_vmax13.csv', 'cell_vmax14.csv', 'cell_vmax15.csv', 'cell_vmax16.csv', 'cell_vmax17.csv', 'cell_vmax18.csv', 'cell_vmax2.csv', 'cell_vmax3.csv', 'cell_vmax4.csv', 'cell_vmax5.csv', 'cell_vmax6.csv', 'cell_vmax7.csv', 'cell_vmax8.csv', 'cell_vmax9.csv']\n"
     ]
    }
   ],
   "source": [
    "dat_paths = glob.glob(\"cell_vmax*.csv\")\n",
    "print(dat_paths)\n",
    "#print(dat_paths[0])\n",
    "vmaxdata = [np.loadtxt(dat_path) for dat_path in dat_paths]\n",
    "#data = np.loadtxt(dat_paths[0]) "
   ]
  },
  {
   "cell_type": "code",
   "execution_count": 73,
   "metadata": {},
   "outputs": [
    {
     "name": "stdout",
     "output_type": "stream",
     "text": [
      "['new_cells0.csv', 'new_cells1.csv', 'new_cells10.csv', 'new_cells11.csv', 'new_cells12.csv', 'new_cells13.csv', 'new_cells14.csv', 'new_cells15.csv', 'new_cells16.csv', 'new_cells17.csv', 'new_cells18.csv', 'new_cells19.csv', 'new_cells2.csv', 'new_cells3.csv', 'new_cells4.csv', 'new_cells5.csv', 'new_cells6.csv', 'new_cells7.csv', 'new_cells8.csv', 'new_cells9.csv']\n"
     ]
    }
   ],
   "source": [
    "dat_paths = glob.glob(\"new_cells*.csv\")\n",
    "print(dat_paths)\n",
    "#print(dat_paths[0])\n",
    "newcelldata = [np.loadtxt(dat_path) for dat_path in dat_paths]\n",
    "#data = np.loadtxt(dat_paths[0]) "
   ]
  },
  {
   "cell_type": "code",
   "execution_count": 74,
   "metadata": {},
   "outputs": [
    {
     "name": "stdout",
     "output_type": "stream",
     "text": [
      "['bfsel-cells0.csv', 'bfsel-cells1.csv', 'bfsel-cells10.csv', 'bfsel-cells11.csv', 'bfsel-cells12.csv', 'bfsel-cells13.csv', 'bfsel-cells14.csv', 'bfsel-cells15.csv', 'bfsel-cells16.csv', 'bfsel-cells17.csv', 'bfsel-cells18.csv', 'bfsel-cells19.csv', 'bfsel-cells2.csv', 'bfsel-cells3.csv', 'bfsel-cells4.csv', 'bfsel-cells5.csv', 'bfsel-cells6.csv', 'bfsel-cells7.csv', 'bfsel-cells8.csv', 'bfsel-cells9.csv']\n"
     ]
    }
   ],
   "source": [
    "dat_paths = glob.glob(\"bfsel-cells*.csv\")\n",
    "print(dat_paths)\n",
    "#print(dat_paths[0])\n",
    "bfsel_celldata = [np.loadtxt(dat_path) for dat_path in dat_paths]\n",
    "#data = np.loadtxt(dat_paths[0]) "
   ]
  },
  {
   "cell_type": "code",
   "execution_count": 77,
   "metadata": {},
   "outputs": [
    {
     "name": "stdout",
     "output_type": "stream",
     "text": [
      "[[0.00000000e+00 1.00001000e+02]\n",
      " [1.00000000e+00 6.65007694e+07]\n",
      " [2.00000000e+00 3.24017824e+07]\n",
      " [3.00000000e+00 3.38637674e+07]\n",
      " [4.00000000e+00 3.00918506e+07]\n",
      " [5.00000000e+00 3.20649645e+07]\n",
      " [6.00000000e+00 3.33716461e+07]\n",
      " [7.00000000e+00 3.11731686e+07]\n",
      " [8.00000000e+00 3.16967071e+07]\n",
      " [9.00000000e+00 3.33425189e+07]\n",
      " [1.00000000e+01 3.34216450e+07]\n",
      " [1.10000000e+01 3.13936316e+07]\n",
      " [1.20000000e+01 2.34076591e+07]\n",
      " [1.30000000e+01 2.97914196e+07]\n",
      " [1.40000000e+01 3.32367868e+07]\n",
      " [1.50000000e+01 3.69242674e+07]\n",
      " [1.60000000e+01 2.93367853e+07]\n",
      " [1.70000000e+01 3.36797887e+07]\n",
      " [1.80000000e+01 3.34784896e+07]]\n",
      "[[0.00000e+00 1.00000e+00]\n",
      " [1.00000e+00 6.65005e+05]\n",
      " [2.00000e+00 3.24013e+05]\n",
      " [3.00000e+00 3.38631e+05]\n",
      " [4.00000e+00 3.00912e+05]\n",
      " [5.00000e+00 3.20644e+05]\n",
      " [6.00000e+00 3.33709e+05]\n",
      " [7.00000e+00 3.11727e+05]\n",
      " [8.00000e+00 3.16960e+05]\n",
      " [9.00000e+00 3.33419e+05]\n",
      " [1.00000e+01 3.34208e+05]\n",
      " [1.10000e+01 3.13928e+05]\n",
      " [1.20000e+01 2.34075e+05]\n",
      " [1.30000e+01 2.97911e+05]\n",
      " [1.40000e+01 3.32365e+05]\n",
      " [1.50000e+01 3.69239e+05]\n",
      " [1.60000e+01 2.93365e+05]\n",
      " [1.70000e+01 3.36792e+05]\n",
      " [1.80000e+01 3.34779e+05]]\n",
      "\n",
      "[[0.99999   ]\n",
      " [0.99999595]\n",
      " [0.99998511]\n",
      " [0.99998029]\n",
      " [0.99997838]\n",
      " [0.99998239]\n",
      " [0.99997764]\n",
      " [0.99998497]\n",
      " [0.99997769]\n",
      " [0.99998144]\n",
      " [0.99997472]\n",
      " [0.99997351]\n",
      " [0.9999932 ]\n",
      " [0.99998927]\n",
      " [0.99999137]\n",
      " [0.99999005]\n",
      " [0.99999027]\n",
      " [0.99998252]\n",
      " [0.99998239]]\n"
     ]
    }
   ],
   "source": [
    "allday = 19\n",
    "newcell = np.zeros((allday,2))\n",
    "bfcell = np.zeros((allday,2))\n",
    "Pop_fp = np.zeros((allday,2))\n",
    "Pop_lp = np.zeros((allday,2))\n",
    "agent_fp = np.zeros((allday,2))\n",
    "agent_lp = np.zeros((allday,2))\n",
    "for day in range(0,allday):\n",
    "\n",
    "    Pop_fp[day][0] = day\n",
    "    Pop_fp[day][1] = np.sum(recedata[day][0][:])\n",
    "    #Pop_fp[day][1] = np.sum(newcelldata[day][:])\n",
    "    #print(Pop_fp[day][:])\n",
    "    \n",
    "    newcell[day][0] = day\n",
    "    newcell[day][1] = np.sum(newcelldata[day])\n",
    "    \n",
    "    bfcell[day][0] = day\n",
    "    bfcell[day][1] = np.sum(bfsel_celldata[day][-1])\n",
    "  \n",
    "    Pop_lp[day][0] = day\n",
    "    Pop_lp[day][1] = np.sum(recedata[day][287][:])\n",
    "    #print(Pop_lp[day][:])\n",
    "    \n",
    "    agent_fp[day][0] = day\n",
    "    agent_fp[day][1] = np.sum(recedata[day][0][:]>0.0)\n",
    "    #print(agent_fp[day][:])\n",
    "    \n",
    "    agent_lp[day][0] = day+0.5\n",
    "    agent_lp[day][1] = np.sum(recedata[day][287][:]>0.0)\n",
    "    #print(agent_lp[day][:])\n",
    "\n",
    "    \n",
    "print(bfcell)\n",
    "print(newcell)\n",
    "print()\n",
    "ratio1 = np.zeros((allday,1))\n",
    "for day in range (0,allday):\n",
    "    #print(newcell[day][1])\n",
    "    #print(Pop_lp[day-1][1])\n",
    "    ratio1[day][0] = (newcell[day][1]/bfcell[day][1])*100\n",
    "print(ratio1)\n",
    "\n",
    "#print(newcell)\n",
    "#print(Pop_lp[:,1])"
   ]
  },
  {
   "cell_type": "code",
   "execution_count": 76,
   "metadata": {},
   "outputs": [
    {
     "data": {
      "text/plain": [
       "(35, 72)"
      ]
     },
     "execution_count": 76,
     "metadata": {},
     "output_type": "execute_result"
    }
   ],
   "source": [
    "vmaxdata[12].shape"
   ]
  },
  {
   "cell_type": "code",
   "execution_count": null,
   "metadata": {},
   "outputs": [],
   "source": []
  }
 ],
 "metadata": {
  "kernelspec": {
   "display_name": "Python 3",
   "language": "python",
   "name": "python3"
  },
  "language_info": {
   "codemirror_mode": {
    "name": "ipython",
    "version": 3
   },
   "file_extension": ".py",
   "mimetype": "text/x-python",
   "name": "python",
   "nbconvert_exporter": "python",
   "pygments_lexer": "ipython3",
   "version": "3.6.0"
  }
 },
 "nbformat": 4,
 "nbformat_minor": 2
}
